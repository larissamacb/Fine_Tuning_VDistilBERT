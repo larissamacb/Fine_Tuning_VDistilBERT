{
  "nbformat": 4,
  "nbformat_minor": 0,
  "metadata": {
    "colab": {
      "provenance": [],
      "gpuType": "T4",
      "authorship_tag": "ABX9TyOsS/elOP4mUDTBYRp1kUzv",
      "include_colab_link": true
    },
    "kernelspec": {
      "name": "python3",
      "display_name": "Python 3"
    },
    "language_info": {
      "name": "python"
    },
    "accelerator": "GPU"
  },
  "cells": [
    {
      "cell_type": "markdown",
      "metadata": {
        "id": "view-in-github",
        "colab_type": "text"
      },
      "source": [
        "<a href=\"https://colab.research.google.com/github/larissamacb/Fine_Tuning_VDistilBERT/blob/main/FineTuningDistilbert_Colab.ipynb\" target=\"_parent\"><img src=\"https://colab.research.google.com/assets/colab-badge.svg\" alt=\"Open In Colab\"/></a>"
      ]
    },
    {
      "cell_type": "code",
      "execution_count": 22,
      "metadata": {
        "colab": {
          "base_uri": "https://localhost:8080/"
        },
        "id": "FvkTvz6v9oJH",
        "outputId": "73aac629-660b-4bc3-8628-bd3b1679aeea"
      },
      "outputs": [
        {
          "output_type": "stream",
          "name": "stdout",
          "text": [
            "Cloning into 'Fine_Tuning_VDistilBERT'...\n",
            "remote: Enumerating objects: 23, done.\u001b[K\n",
            "remote: Counting objects: 100% (23/23), done.\u001b[K\n",
            "remote: Compressing objects: 100% (20/20), done.\u001b[K\n",
            "remote: Total 23 (delta 3), reused 23 (delta 3), pack-reused 0 (from 0)\u001b[K\n",
            "Receiving objects: 100% (23/23), 2.39 MiB | 12.76 MiB/s, done.\n",
            "Resolving deltas: 100% (3/3), done.\n"
          ]
        }
      ],
      "source": [
        "!git clone https://github.com/larissamacb/Fine_Tuning_VDistilBERT.git"
      ]
    },
    {
      "cell_type": "code",
      "source": [
        "%cd /content/Fine_Tuning_VDistilBERT"
      ],
      "metadata": {
        "colab": {
          "base_uri": "https://localhost:8080/"
        },
        "id": "Os6vcqrw91t4",
        "outputId": "962c3f43-e331-4d60-a44f-a49978999ffb"
      },
      "execution_count": 23,
      "outputs": [
        {
          "output_type": "stream",
          "name": "stdout",
          "text": [
            "/content/Fine_Tuning_VDistilBERT\n"
          ]
        }
      ]
    },
    {
      "cell_type": "code",
      "source": [
        "!pip install transformers datasets scikit-learn accelerate -U"
      ],
      "metadata": {
        "id": "3-8Rdt0m-Snu"
      },
      "execution_count": null,
      "outputs": []
    },
    {
      "cell_type": "code",
      "source": [
        "!pip install -U transformers\n"
      ],
      "metadata": {
        "id": "tElCwNVEK6H5"
      },
      "execution_count": null,
      "outputs": []
    },
    {
      "cell_type": "code",
      "source": [
        "# Alternativa\n",
        "\n",
        "!python code/train_distilbert.py\n",
        "\n"
      ],
      "metadata": {
        "id": "7R92iojuNj5i"
      },
      "execution_count": null,
      "outputs": []
    },
    {
      "cell_type": "code",
      "source": [
        "!python code/inference_script.py\n",
        "\n"
      ],
      "metadata": {
        "colab": {
          "base_uri": "https://localhost:8080/"
        },
        "id": "QCu4oB9yKCD2",
        "outputId": "73f80ac5-b429-459d-d595-73d09b8fd5e6"
      },
      "execution_count": 30,
      "outputs": [
        {
          "output_type": "stream",
          "name": "stdout",
          "text": [
            "Carregando tokenizador de: ./results_task4_distilbert\n",
            "Carregando modelo de: ./results_task4_distilbert\n",
            "2025-07-03 18:44:44.710947: E external/local_xla/xla/stream_executor/cuda/cuda_fft.cc:477] Unable to register cuFFT factory: Attempting to register factory for plugin cuFFT when one has already been registered\n",
            "WARNING: All log messages before absl::InitializeLog() is called are written to STDERR\n",
            "E0000 00:00:1751568284.730590   30818 cuda_dnn.cc:8310] Unable to register cuDNN factory: Attempting to register factory for plugin cuDNN when one has already been registered\n",
            "E0000 00:00:1751568284.736764   30818 cuda_blas.cc:1418] Unable to register cuBLAS factory: Attempting to register factory for plugin cuBLAS when one has already been registered\n",
            "2025-07-03 18:44:44.756275: I tensorflow/core/platform/cpu_feature_guard.cc:210] This TensorFlow binary is optimized to use available CPU instructions in performance-critical operations.\n",
            "To enable the following instructions: AVX2 FMA, in other operations, rebuild TensorFlow with the appropriate compiler flags.\n",
            "Carregando MultiLabelBinarizer de: multi_label_binarizer.pkl\n",
            "\n",
            "--- Realizando Inferência nos Textos de Exemplo ---\n",
            "\n",
            "Texto 1: 'Brazil needs help after the big flood in the south. Donate!'\n",
            "Rótulos Preditos: ['rescue_volunteering_or_donation_effort']\n",
            "\n",
            "Texto 2: 'Report from CNN: A huge hurricane is approaching Florida. Stay safe.'\n",
            "Rótulos Preditos: ['Florida', 'caution_and_advice', 'hurricane']\n",
            "\n",
            "Texto 3: 'Small earthquake felt in Tokyo, no significant damage reported.'\n",
            "Rótulos Preditos: ['earthquake', 'infrastructure_and_utility_damage']\n",
            "\n",
            "Texto 4: 'People in rural areas are requesting food and water after the severe drought.'\n",
            "Rótulos Preditos: ['requests_or_urgent_needs']\n",
            "\n",
            "Texto 5: 'There was a minor tremor in the Andes. All is well.'\n",
            "Rótulos Preditos: ['caution_and_advice', 'earthquake']\n",
            "\n",
            "Texto 6: 'The volcano erupted, spewing ash for miles. Evacuation orders are in place.'\n",
            "Rótulos Preditos: ['displaced_people_and_evacuations']\n"
          ]
        }
      ]
    },
    {
      "cell_type": "code",
      "source": [
        "!python code/inference_script_2.py"
      ],
      "metadata": {
        "colab": {
          "base_uri": "https://localhost:8080/"
        },
        "id": "rRWbWZfWlVRG",
        "outputId": "99dff907-e113-44f4-fa67-3d325ab2692c"
      },
      "execution_count": 28,
      "outputs": [
        {
          "output_type": "stream",
          "name": "stdout",
          "text": [
            "Carregando tokenizador de: ./results_task4_distilbert\n",
            "Carregando modelo de: ./results_task4_distilbert\n",
            "2025-07-03 18:40:07.551745: E external/local_xla/xla/stream_executor/cuda/cuda_fft.cc:477] Unable to register cuFFT factory: Attempting to register factory for plugin cuFFT when one has already been registered\n",
            "WARNING: All log messages before absl::InitializeLog() is called are written to STDERR\n",
            "E0000 00:00:1751568007.575298   29634 cuda_dnn.cc:8310] Unable to register cuDNN factory: Attempting to register factory for plugin cuDNN when one has already been registered\n",
            "E0000 00:00:1751568007.583968   29634 cuda_blas.cc:1418] Unable to register cuBLAS factory: Attempting to register factory for plugin cuBLAS when one has already been registered\n",
            "2025-07-03 18:40:07.603318: I tensorflow/core/platform/cpu_feature_guard.cc:210] This TensorFlow binary is optimized to use available CPU instructions in performance-critical operations.\n",
            "To enable the following instructions: AVX2 FMA, in other operations, rebuild TensorFlow with the appropriate compiler flags.\n",
            "Carregando MultiLabelBinarizer de: multi_label_binarizer.pkl\n",
            "\n",
            "--- Realizando Inferência no arquivo: ./data/dialog4inference_train_part.json ---\n",
            "\n",
            "Resultados da inferência salvos em: ./inference_results.json\n",
            "\n",
            "--- Primeiros Resultados da Inferência ---\n",
            "Texto: 'RT emartillo1: Ecuador is in an urgent need of international help..donate and share the information of the donnation account.Thanks :'\n",
            "Rótulos Preditos: ['Ecuador', 'earthquake', 'requests_or_urgent_needs']\n",
            "\n",
            "Texto: 'Please donate anything to can money, blankets, dog food anything. So many animals have been displaced or killed by the California fires. Heartbreaking!! Heartwarming Video Shows Moment Thirteen Dogs Are Rescued From California Wildfires  via ladbible'\n",
            "Rótulos Preditos: ['California', 'rescue_volunteering_or_donation_effort', 'wildfires']\n",
            "\n",
            "Texto: 'Im raising money for Dorian Hurricane relief fund for Green Turtle Cay. Click to Donate:  via gofundme'\n",
            "Rótulos Preditos: ['hurricane', 'rescue_volunteering_or_donation_effort']\n",
            "\n",
            "Texto: 'One dead, 50 injured as confirmed 5.8-magnitude earthquake shakes parts of Pakistan. Confirmed. Pak Army has mobilised rescue team in AJK. Pakistan administered Kashmir. Lahore earthquake OfficialDGISPR'\n",
            "Rótulos Preditos: ['Kashmir', 'Mirpur', 'Pakistan', 'earthquake', 'injured_or_dead_people']\n",
            "\n",
            "Texto: 'MSNBC 1:27am LIFE-THREATENING, CATASTROPHIC FLASH FLOODING &. SIGNIFICANT RIVER FLOODING LIKELY IN SOME AREAS HURRICANE FLORENCE'\n",
            "Rótulos Preditos: ['caution_and_advice', 'hurricane']\n",
            "\n"
          ]
        }
      ]
    }
  ]
}